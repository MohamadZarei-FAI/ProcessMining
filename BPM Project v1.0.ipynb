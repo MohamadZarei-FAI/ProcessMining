{
 "cells": [
  {
   "cell_type": "code",
   "execution_count": 2,
   "metadata": {},
   "outputs": [],
   "source": [
    "from pyvis import network as net\n",
    "import networkx as nx\n",
    "import sklearn\n",
    "import graphviz"
   ]
  },
  {
   "cell_type": "code",
   "execution_count": 3,
   "metadata": {},
   "outputs": [],
   "source": [
    "# python ######################################################################\n",
    "import os\n",
    "import sys\n",
    "import datetime\n",
    "\n",
    "# basics ######################################################################\n",
    "import numpy as np\n",
    "import pandas as pd\n",
    "import matplotlib.pyplot as plt\n",
    "\n",
    "# widgets #####################################################################\n",
    "import ipywidgets as widgets\n",
    "from ipywidgets import interact\n",
    "\n",
    "# process mining ##############################################################\n",
    "import pm4py\n",
    "\n",
    "# object.log\n",
    "from pm4py.objects.log.util import dataframe_utils\n",
    "#from pm4py.objects.log.exporter.xes import exporter as xes_exporter\n",
    "#from pm4py.objects.log.importer.xes import importer as xes_importer\n",
    "\n",
    "# object.conversion\n",
    "from pm4py.objects.conversion.dfg import converter as dfg_converter\n",
    "from pm4py.objects.conversion.process_tree import converter as pt_converter\n",
    "\n",
    "# algo.discovery\n",
    "from pm4py.algo.discovery.alpha import variants\n",
    "from pm4py.algo.discovery.alpha import algorithm as alpha_miner\n",
    "from pm4py.algo.discovery.dfg import algorithm as dfg_discovery\n",
    "from pm4py.algo.discovery.heuristics import algorithm as heuristics_miner\n",
    "from pm4py.algo.discovery.inductive import algorithm as inductive_miner\n",
    "\n",
    "# algo.conformance\n",
    "from pm4py.algo.conformance.tokenreplay import algorithm as token_replay\n",
    "\n",
    "# vizualization\n",
    "from pm4py.visualization.petri_net import visualizer as pn_visualizer\n",
    "from pm4py.visualization.dfg import visualizer as dfg_visualization\n",
    "from pm4py.visualization.process_tree import visualizer as pt_visualizer\n",
    "from pm4py.visualization.heuristics_net import visualizer as hn_visualizer"
   ]
  },
  {
   "cell_type": "code",
   "execution_count": 4,
   "metadata": {},
   "outputs": [
    {
     "data": {
      "text/plain": [
       "(1160405, 27)"
      ]
     },
     "execution_count": 4,
     "metadata": {},
     "output_type": "execute_result"
    }
   ],
   "source": [
    "# Loading Event Data\n",
    "df = pd.read_csv('BPI Challenge 2017.csv', parse_dates = ['Start Timestamp', 'Complete Timestamp'])\n",
    "\n",
    "# format Dataframe\n",
    "df = pm4py.format_dataframe(\n",
    "    df,\n",
    "    case_id = 'Case ID',\n",
    "    activity_key = 'Activity',\n",
    "    timestamp_key = 'Complete Timestamp', \n",
    "    start_timestamp_key = 'Start Timestamp',\n",
    "    timest_format = '%Y-%m-%d %H:%M:%S%z'\n",
    ")\n",
    "\n",
    "# Dimentions of Event Data\n",
    "df.shape"
   ]
  },
  {
   "cell_type": "code",
   "execution_count": 5,
   "metadata": {},
   "outputs": [
    {
     "data": {
      "text/plain": [
       "Case ID                        0\n",
       "Activity                       0\n",
       "Resource                       0\n",
       "Start Timestamp                0\n",
       "Complete Timestamp             0\n",
       "Variant                        0\n",
       "Variant index                  0\n",
       "lifecycle:transition           0\n",
       "EventOrigin                    0\n",
       "EventID                        0\n",
       "Action                         0\n",
       "LoanGoal                       0\n",
       "ApplicationType                0\n",
       "RequestedAmount                0\n",
       "FirstWithdrawalAmount    1117410\n",
       "NumberOfTerms            1117410\n",
       "Accepted                 1117410\n",
       "MonthlyCost              1117410\n",
       "Selected                 1117410\n",
       "CreditScore              1117410\n",
       "OfferedAmount            1117410\n",
       "OfferID                  1009551\n",
       "case:concept:name              0\n",
       "concept:name                   0\n",
       "time:timestamp                 0\n",
       "@@index                        0\n",
       "start_timestamp                0\n",
       "dtype: int64"
      ]
     },
     "execution_count": 5,
     "metadata": {},
     "output_type": "execute_result"
    }
   ],
   "source": [
    "# Check NA-values\n",
    "df.isna().sum()"
   ]
  },
  {
   "cell_type": "code",
   "execution_count": 6,
   "metadata": {},
   "outputs": [
    {
     "data": {
      "text/plain": [
       "Index(['Case ID', 'Activity', 'Resource', 'Start Timestamp',\n",
       "       'Complete Timestamp', 'Variant', 'Variant index',\n",
       "       'lifecycle:transition', 'EventOrigin', 'EventID', 'Action', 'LoanGoal',\n",
       "       'ApplicationType', 'RequestedAmount', 'FirstWithdrawalAmount',\n",
       "       'NumberOfTerms', 'Accepted', 'MonthlyCost', 'Selected', 'CreditScore',\n",
       "       'OfferedAmount', 'OfferID', 'case:concept:name', 'concept:name',\n",
       "       'time:timestamp', '@@index', 'start_timestamp'],\n",
       "      dtype='object')"
      ]
     },
     "execution_count": 6,
     "metadata": {},
     "output_type": "execute_result"
    }
   ],
   "source": [
    "df.columns"
   ]
  },
  {
   "cell_type": "code",
   "execution_count": 7,
   "metadata": {},
   "outputs": [
    {
     "data": {
      "text/html": [
       "<div>\n",
       "<style scoped>\n",
       "    .dataframe tbody tr th:only-of-type {\n",
       "        vertical-align: middle;\n",
       "    }\n",
       "\n",
       "    .dataframe tbody tr th {\n",
       "        vertical-align: top;\n",
       "    }\n",
       "\n",
       "    .dataframe thead th {\n",
       "        text-align: right;\n",
       "    }\n",
       "</style>\n",
       "<table border=\"1\" class=\"dataframe\">\n",
       "  <thead>\n",
       "    <tr style=\"text-align: right;\">\n",
       "      <th></th>\n",
       "      <th>Case ID</th>\n",
       "      <th>Activity</th>\n",
       "      <th>Resource</th>\n",
       "      <th>Start Timestamp</th>\n",
       "      <th>Complete Timestamp</th>\n",
       "      <th>Variant</th>\n",
       "      <th>Variant index</th>\n",
       "      <th>lifecycle:transition</th>\n",
       "      <th>EventOrigin</th>\n",
       "      <th>EventID</th>\n",
       "      <th>Action</th>\n",
       "      <th>LoanGoal</th>\n",
       "      <th>ApplicationType</th>\n",
       "      <th>RequestedAmount</th>\n",
       "      <th>case:concept:name</th>\n",
       "      <th>concept:name</th>\n",
       "      <th>time:timestamp</th>\n",
       "      <th>@@index</th>\n",
       "      <th>start_timestamp</th>\n",
       "    </tr>\n",
       "  </thead>\n",
       "  <tbody>\n",
       "    <tr>\n",
       "      <th>661035</th>\n",
       "      <td>Application_1000086665</td>\n",
       "      <td>A_Create Application</td>\n",
       "      <td>User_1</td>\n",
       "      <td>2016-08-03 19:27:21.673</td>\n",
       "      <td>2016-08-03 19:27:21.673</td>\n",
       "      <td>Variant 3</td>\n",
       "      <td>3</td>\n",
       "      <td>complete</td>\n",
       "      <td>Application</td>\n",
       "      <td>Application_1000086665</td>\n",
       "      <td>Created</td>\n",
       "      <td>Other, see explanation</td>\n",
       "      <td>New credit</td>\n",
       "      <td>5000.0</td>\n",
       "      <td>Application_1000086665</td>\n",
       "      <td>A_Create Application</td>\n",
       "      <td>2016-08-03 19:27:21.673</td>\n",
       "      <td>661035</td>\n",
       "      <td>2016-08-03 19:27:21.673</td>\n",
       "    </tr>\n",
       "    <tr>\n",
       "      <th>661036</th>\n",
       "      <td>Application_1000086665</td>\n",
       "      <td>A_Submitted</td>\n",
       "      <td>User_1</td>\n",
       "      <td>2016-08-03 19:27:21.734</td>\n",
       "      <td>2016-08-03 19:27:21.734</td>\n",
       "      <td>Variant 3</td>\n",
       "      <td>3</td>\n",
       "      <td>complete</td>\n",
       "      <td>Application</td>\n",
       "      <td>ApplState_161925113</td>\n",
       "      <td>statechange</td>\n",
       "      <td>Other, see explanation</td>\n",
       "      <td>New credit</td>\n",
       "      <td>5000.0</td>\n",
       "      <td>Application_1000086665</td>\n",
       "      <td>A_Submitted</td>\n",
       "      <td>2016-08-03 19:27:21.734</td>\n",
       "      <td>661036</td>\n",
       "      <td>2016-08-03 19:27:21.734</td>\n",
       "    </tr>\n",
       "    <tr>\n",
       "      <th>661037</th>\n",
       "      <td>Application_1000086665</td>\n",
       "      <td>W_Handle leads</td>\n",
       "      <td>User_1</td>\n",
       "      <td>2016-08-03 19:27:21.963</td>\n",
       "      <td>2016-08-03 19:27:21.963</td>\n",
       "      <td>Variant 3</td>\n",
       "      <td>3</td>\n",
       "      <td>schedule</td>\n",
       "      <td>Workflow</td>\n",
       "      <td>Workitem_747707399</td>\n",
       "      <td>Created</td>\n",
       "      <td>Other, see explanation</td>\n",
       "      <td>New credit</td>\n",
       "      <td>5000.0</td>\n",
       "      <td>Application_1000086665</td>\n",
       "      <td>W_Handle leads</td>\n",
       "      <td>2016-08-03 19:27:21.963</td>\n",
       "      <td>661037</td>\n",
       "      <td>2016-08-03 19:27:21.963</td>\n",
       "    </tr>\n",
       "    <tr>\n",
       "      <th>661038</th>\n",
       "      <td>Application_1000086665</td>\n",
       "      <td>W_Handle leads</td>\n",
       "      <td>User_1</td>\n",
       "      <td>2016-08-03 19:28:28.286</td>\n",
       "      <td>2016-08-03 19:28:28.286</td>\n",
       "      <td>Variant 3</td>\n",
       "      <td>3</td>\n",
       "      <td>withdraw</td>\n",
       "      <td>Workflow</td>\n",
       "      <td>Workitem_1030261128</td>\n",
       "      <td>Deleted</td>\n",
       "      <td>Other, see explanation</td>\n",
       "      <td>New credit</td>\n",
       "      <td>5000.0</td>\n",
       "      <td>Application_1000086665</td>\n",
       "      <td>W_Handle leads</td>\n",
       "      <td>2016-08-03 19:28:28.286</td>\n",
       "      <td>661038</td>\n",
       "      <td>2016-08-03 19:28:28.286</td>\n",
       "    </tr>\n",
       "    <tr>\n",
       "      <th>661039</th>\n",
       "      <td>Application_1000086665</td>\n",
       "      <td>W_Complete application</td>\n",
       "      <td>User_1</td>\n",
       "      <td>2016-08-03 19:28:28.293</td>\n",
       "      <td>2016-08-03 19:28:28.293</td>\n",
       "      <td>Variant 3</td>\n",
       "      <td>3</td>\n",
       "      <td>schedule</td>\n",
       "      <td>Workflow</td>\n",
       "      <td>Workitem_1127124826</td>\n",
       "      <td>Created</td>\n",
       "      <td>Other, see explanation</td>\n",
       "      <td>New credit</td>\n",
       "      <td>5000.0</td>\n",
       "      <td>Application_1000086665</td>\n",
       "      <td>W_Complete application</td>\n",
       "      <td>2016-08-03 19:28:28.293</td>\n",
       "      <td>661039</td>\n",
       "      <td>2016-08-03 19:28:28.293</td>\n",
       "    </tr>\n",
       "  </tbody>\n",
       "</table>\n",
       "</div>"
      ],
      "text/plain": [
       "                       Case ID                Activity Resource  \\\n",
       "661035  Application_1000086665    A_Create Application   User_1   \n",
       "661036  Application_1000086665             A_Submitted   User_1   \n",
       "661037  Application_1000086665          W_Handle leads   User_1   \n",
       "661038  Application_1000086665          W_Handle leads   User_1   \n",
       "661039  Application_1000086665  W_Complete application   User_1   \n",
       "\n",
       "               Start Timestamp      Complete Timestamp    Variant  \\\n",
       "661035 2016-08-03 19:27:21.673 2016-08-03 19:27:21.673  Variant 3   \n",
       "661036 2016-08-03 19:27:21.734 2016-08-03 19:27:21.734  Variant 3   \n",
       "661037 2016-08-03 19:27:21.963 2016-08-03 19:27:21.963  Variant 3   \n",
       "661038 2016-08-03 19:28:28.286 2016-08-03 19:28:28.286  Variant 3   \n",
       "661039 2016-08-03 19:28:28.293 2016-08-03 19:28:28.293  Variant 3   \n",
       "\n",
       "        Variant index lifecycle:transition  EventOrigin  \\\n",
       "661035              3             complete  Application   \n",
       "661036              3             complete  Application   \n",
       "661037              3             schedule     Workflow   \n",
       "661038              3             withdraw     Workflow   \n",
       "661039              3             schedule     Workflow   \n",
       "\n",
       "                       EventID       Action                LoanGoal  \\\n",
       "661035  Application_1000086665      Created  Other, see explanation   \n",
       "661036     ApplState_161925113  statechange  Other, see explanation   \n",
       "661037      Workitem_747707399      Created  Other, see explanation   \n",
       "661038     Workitem_1030261128      Deleted  Other, see explanation   \n",
       "661039     Workitem_1127124826      Created  Other, see explanation   \n",
       "\n",
       "       ApplicationType  RequestedAmount       case:concept:name  \\\n",
       "661035      New credit           5000.0  Application_1000086665   \n",
       "661036      New credit           5000.0  Application_1000086665   \n",
       "661037      New credit           5000.0  Application_1000086665   \n",
       "661038      New credit           5000.0  Application_1000086665   \n",
       "661039      New credit           5000.0  Application_1000086665   \n",
       "\n",
       "                  concept:name          time:timestamp  @@index  \\\n",
       "661035    A_Create Application 2016-08-03 19:27:21.673   661035   \n",
       "661036             A_Submitted 2016-08-03 19:27:21.734   661036   \n",
       "661037          W_Handle leads 2016-08-03 19:27:21.963   661037   \n",
       "661038          W_Handle leads 2016-08-03 19:28:28.286   661038   \n",
       "661039  W_Complete application 2016-08-03 19:28:28.293   661039   \n",
       "\n",
       "               start_timestamp  \n",
       "661035 2016-08-03 19:27:21.673  \n",
       "661036 2016-08-03 19:27:21.734  \n",
       "661037 2016-08-03 19:27:21.963  \n",
       "661038 2016-08-03 19:28:28.286  \n",
       "661039 2016-08-03 19:28:28.293  "
      ]
     },
     "execution_count": 7,
     "metadata": {},
     "output_type": "execute_result"
    }
   ],
   "source": [
    "# Deleting culumns of Event data that have NAs or are useless in this Project\n",
    "df = df.drop(['FirstWithdrawalAmount', 'NumberOfTerms', 'Accepted', 'MonthlyCost',\n",
    "'Selected', 'CreditScore', 'OfferedAmount', 'OfferID'], axis=1)\n",
    "\n",
    "# First 5 rows in Eent Data\n",
    "df.head()"
   ]
  },
  {
   "cell_type": "code",
   "execution_count": 8,
   "metadata": {},
   "outputs": [
    {
     "data": {
      "text/plain": [
       "(1160405, 19)"
      ]
     },
     "execution_count": 8,
     "metadata": {},
     "output_type": "execute_result"
    }
   ],
   "source": [
    "df.shape"
   ]
  },
  {
   "cell_type": "code",
   "execution_count": 9,
   "metadata": {},
   "outputs": [
    {
     "data": {
      "text/html": [
       "<div>\n",
       "<style scoped>\n",
       "    .dataframe tbody tr th:only-of-type {\n",
       "        vertical-align: middle;\n",
       "    }\n",
       "\n",
       "    .dataframe tbody tr th {\n",
       "        vertical-align: top;\n",
       "    }\n",
       "\n",
       "    .dataframe thead th {\n",
       "        text-align: right;\n",
       "    }\n",
       "</style>\n",
       "<table border=\"1\" class=\"dataframe\">\n",
       "  <thead>\n",
       "    <tr style=\"text-align: right;\">\n",
       "      <th></th>\n",
       "      <th>unique values</th>\n",
       "      <th>fraction</th>\n",
       "    </tr>\n",
       "    <tr>\n",
       "      <th>variable</th>\n",
       "      <th></th>\n",
       "      <th></th>\n",
       "    </tr>\n",
       "  </thead>\n",
       "  <tbody>\n",
       "    <tr>\n",
       "      <th>Case ID</th>\n",
       "      <td>31509</td>\n",
       "      <td>0.03</td>\n",
       "    </tr>\n",
       "    <tr>\n",
       "      <th>Activity</th>\n",
       "      <td>26</td>\n",
       "      <td>0.00</td>\n",
       "    </tr>\n",
       "    <tr>\n",
       "      <th>Resource</th>\n",
       "      <td>149</td>\n",
       "      <td>0.00</td>\n",
       "    </tr>\n",
       "    <tr>\n",
       "      <th>Start Timestamp</th>\n",
       "      <td>1160354</td>\n",
       "      <td>1.00</td>\n",
       "    </tr>\n",
       "    <tr>\n",
       "      <th>Complete Timestamp</th>\n",
       "      <td>1160348</td>\n",
       "      <td>1.00</td>\n",
       "    </tr>\n",
       "    <tr>\n",
       "      <th>Variant</th>\n",
       "      <td>15484</td>\n",
       "      <td>0.01</td>\n",
       "    </tr>\n",
       "    <tr>\n",
       "      <th>Variant index</th>\n",
       "      <td>15484</td>\n",
       "      <td>0.01</td>\n",
       "    </tr>\n",
       "    <tr>\n",
       "      <th>lifecycle:transition</th>\n",
       "      <td>7</td>\n",
       "      <td>0.00</td>\n",
       "    </tr>\n",
       "    <tr>\n",
       "      <th>EventOrigin</th>\n",
       "      <td>3</td>\n",
       "      <td>0.00</td>\n",
       "    </tr>\n",
       "    <tr>\n",
       "      <th>EventID</th>\n",
       "      <td>1160405</td>\n",
       "      <td>1.00</td>\n",
       "    </tr>\n",
       "    <tr>\n",
       "      <th>Action</th>\n",
       "      <td>5</td>\n",
       "      <td>0.00</td>\n",
       "    </tr>\n",
       "    <tr>\n",
       "      <th>LoanGoal</th>\n",
       "      <td>14</td>\n",
       "      <td>0.00</td>\n",
       "    </tr>\n",
       "    <tr>\n",
       "      <th>ApplicationType</th>\n",
       "      <td>2</td>\n",
       "      <td>0.00</td>\n",
       "    </tr>\n",
       "    <tr>\n",
       "      <th>RequestedAmount</th>\n",
       "      <td>701</td>\n",
       "      <td>0.00</td>\n",
       "    </tr>\n",
       "    <tr>\n",
       "      <th>case:concept:name</th>\n",
       "      <td>31509</td>\n",
       "      <td>0.03</td>\n",
       "    </tr>\n",
       "    <tr>\n",
       "      <th>concept:name</th>\n",
       "      <td>26</td>\n",
       "      <td>0.00</td>\n",
       "    </tr>\n",
       "    <tr>\n",
       "      <th>time:timestamp</th>\n",
       "      <td>1160348</td>\n",
       "      <td>1.00</td>\n",
       "    </tr>\n",
       "    <tr>\n",
       "      <th>@@index</th>\n",
       "      <td>1160405</td>\n",
       "      <td>1.00</td>\n",
       "    </tr>\n",
       "    <tr>\n",
       "      <th>start_timestamp</th>\n",
       "      <td>1160354</td>\n",
       "      <td>1.00</td>\n",
       "    </tr>\n",
       "  </tbody>\n",
       "</table>\n",
       "</div>"
      ],
      "text/plain": [
       "                      unique values  fraction\n",
       "variable                                     \n",
       "Case ID                       31509      0.03\n",
       "Activity                         26      0.00\n",
       "Resource                        149      0.00\n",
       "Start Timestamp             1160354      1.00\n",
       "Complete Timestamp          1160348      1.00\n",
       "Variant                       15484      0.01\n",
       "Variant index                 15484      0.01\n",
       "lifecycle:transition              7      0.00\n",
       "EventOrigin                       3      0.00\n",
       "EventID                     1160405      1.00\n",
       "Action                            5      0.00\n",
       "LoanGoal                         14      0.00\n",
       "ApplicationType                   2      0.00\n",
       "RequestedAmount                 701      0.00\n",
       "case:concept:name             31509      0.03\n",
       "concept:name                     26      0.00\n",
       "time:timestamp              1160348      1.00\n",
       "@@index                     1160405      1.00\n",
       "start_timestamp             1160354      1.00"
      ]
     },
     "execution_count": 9,
     "metadata": {},
     "output_type": "execute_result"
    }
   ],
   "source": [
    "# Unique values\n",
    "pd.DataFrame(\n",
    "    {\n",
    "        'variable': df.columns, \n",
    "        'unique values': [df[col].nunique() for col in df.columns],\n",
    "        'fraction': [round(df[col].nunique() / df.shape[0], 2) for col in df.columns], \n",
    "    }\n",
    ").set_index('variable')"
   ]
  },
  {
   "cell_type": "code",
   "execution_count": 10,
   "metadata": {},
   "outputs": [],
   "source": [
    "# Convert to Event log\n",
    "log = pm4py.convert_to_event_log(df)"
   ]
  },
  {
   "attachments": {},
   "cell_type": "markdown",
   "metadata": {},
   "source": [
    "## Statistics"
   ]
  },
  {
   "cell_type": "code",
   "execution_count": 11,
   "metadata": {},
   "outputs": [
    {
     "data": {
      "image/png": "[encoded data removed]",
      "text/plain": [
       "<Figure size 432x288 with 1 Axes>"
      ]
     },
     "metadata": {
      "needs_background": "light"
     },
     "output_type": "display_data"
    }
   ],
   "source": [
    "# Value counts: activity\n",
    "df['concept:name'].value_counts().plot(y='concept:name', kind='barh', title='Activity')\n",
    "plt.show()"
   ]
  },
  {
   "cell_type": "code",
   "execution_count": 12,
   "metadata": {},
   "outputs": [
    {
     "data": {
      "text/plain": [
       "1075.538232226736"
      ]
     },
     "execution_count": 12,
     "metadata": {},
     "output_type": "execute_result"
    }
   ],
   "source": [
    "# Case Arrival/Dispersion Ratio\n",
    "case_arrival_ratio = pm4py.get_case_arrival_average(log)\n",
    "from pm4py.statistics.traces.generic.log import case_arrival\n",
    "case_dispersion_ratio = case_arrival.get_case_dispersion_avg(log, parameters={\n",
    "    case_arrival.Parameters.TIMESTAMP_KEY: \"time:timestamp\"})\n",
    "case_dispersion_ratio"
   ]
  },
  {
   "cell_type": "code",
   "execution_count": 13,
   "metadata": {},
   "outputs": [
    {
     "name": "stdout",
     "output_type": "stream",
     "text": [
      "29736000.0\n",
      "14277600.0\n"
     ]
    }
   ],
   "source": [
    "# Business Hours\n",
    "from pm4py.util.business_hours import BusinessHours\n",
    "from datetime import datetime\n",
    "\n",
    "st = datetime.fromtimestamp(100000000)\n",
    "et = datetime.fromtimestamp(200000000)\n",
    "bh_object = BusinessHours(st, et)\n",
    "worked_time = bh_object.getseconds()\n",
    "print(worked_time)\n",
    "bh_object = BusinessHours(st, et, worktiming=[10, 16], weekends=[5, 6, 7])\n",
    "worked_time = bh_object.getseconds()\n",
    "print(worked_time)"
   ]
  },
  {
   "cell_type": "code",
   "execution_count": 14,
   "metadata": {},
   "outputs": [
    {
     "data": {
      "image/png": "[encoded data removed]",
      "text/plain": [
       "<IPython.core.display.Image object>"
      ]
     },
     "metadata": {},
     "output_type": "display_data"
    },
    {
     "data": {
      "image/png": "[encoded data removed]",
      "text/plain": [
       "<IPython.core.display.Image object>"
      ]
     },
     "metadata": {},
     "output_type": "display_data"
    }
   ],
   "source": [
    "# Distribution of case duration\n",
    "from pm4py.util import constants\n",
    "from pm4py.statistics.traces.generic.log import case_statistics\n",
    "x, y = case_statistics.get_kde_caseduration(log, parameters={constants.PARAMETER_CONSTANT_TIMESTAMP_KEY: \"time:timestamp\"})\n",
    "\n",
    "from pm4py.visualization.graphs import visualizer as graphs_visualizer\n",
    "\n",
    "gviz = graphs_visualizer.apply_plot(x, y, variant=graphs_visualizer.Variants.CASES)\n",
    "graphs_visualizer.view(gviz)\n",
    "\n",
    "gviz = graphs_visualizer.apply_semilogx(x, y, variant=graphs_visualizer.Variants.CASES)\n",
    "graphs_visualizer.view(gviz)"
   ]
  },
  {
   "cell_type": "code",
   "execution_count": 15,
   "metadata": {},
   "outputs": [
    {
     "data": {
      "image/png": "[encoded data removed]",
      "text/plain": [
       "<IPython.core.display.Image object>"
      ]
     },
     "metadata": {},
     "output_type": "display_data"
    }
   ],
   "source": [
    "# Distribution of events over time\n",
    "from pm4py.algo.filtering.log.attributes import attributes_filter\n",
    "\n",
    "x, y = attributes_filter.get_kde_date_attribute(log, attribute=\"time:timestamp\")\n",
    "\n",
    "from pm4py.visualization.graphs import visualizer as graphs_visualizer\n",
    "\n",
    "gviz = graphs_visualizer.apply_plot(x, y, variant=graphs_visualizer.Variants.DATES)\n",
    "graphs_visualizer.view(gviz)"
   ]
  },
  {
   "cell_type": "code",
   "execution_count": 16,
   "metadata": {},
   "outputs": [
    {
     "data": {
      "image/png": "[encoded data removed]",
      "text/plain": [
       "<IPython.core.display.Image object>"
      ]
     },
     "metadata": {},
     "output_type": "display_data"
    },
    {
     "data": {
      "image/png": "[encoded data removed]",
      "text/plain": [
       "<IPython.core.display.Image object>"
      ]
     },
     "metadata": {},
     "output_type": "display_data"
    }
   ],
   "source": [
    "# Distribution of a numeric attribute\n",
    "from pm4py.algo.filtering.log.attributes import attributes_filter\n",
    "\n",
    "x, y = attributes_filter.get_kde_numeric_attribute(log, \"RequestedAmount\")\n",
    "\n",
    "from pm4py.visualization.graphs import visualizer as graphs_visualizer\n",
    "\n",
    "gviz = graphs_visualizer.apply_plot(x, y, variant=graphs_visualizer.Variants.ATTRIBUTES)\n",
    "graphs_visualizer.view(gviz)\n",
    "\n",
    "from pm4py.visualization.graphs import visualizer as graphs_visualizer\n",
    "\n",
    "gviz = graphs_visualizer.apply_semilogx(x, y, variant=graphs_visualizer.Variants.ATTRIBUTES)\n",
    "graphs_visualizer.view(gviz)"
   ]
  },
  {
   "cell_type": "code",
   "execution_count": 17,
   "metadata": {},
   "outputs": [
    {
     "data": {
      "image/png": "[encoded data removed]",
      "text/plain": [
       "<IPython.core.display.Image object>"
      ]
     },
     "metadata": {},
     "output_type": "display_data"
    }
   ],
   "source": [
    "# Simplified Interface\n",
    "heu_net = pm4py.discover_heuristics_net(\n",
    "    log, dependency_threshold=0.9999, \n",
    "    and_threshold=0.999, \n",
    "    loop_two_threshold=0.999\n",
    ")\n",
    "pm4py.save_vis_heuristics_net(heu_net, file_path='heuristicsminer.png') \n",
    "pm4py.view_heuristics_net(heu_net)"
   ]
  },
  {
   "cell_type": "code",
   "execution_count": 18,
   "id": "fb6884f6",
   "metadata": {},
   "outputs": [
    {
     "data": {
      "text/plain": [
       "{'A_Create Application': 31509}"
      ]
     },
     "execution_count": 18,
     "metadata": {},
     "output_type": "execute_result"
    }
   ],
   "source": [
    "# Start Activities\n",
    "start_activities = pm4py.get_start_activities(df)\n",
    "start_activities"
   ]
  },
  {
   "cell_type": "code",
   "execution_count": 19,
   "metadata": {},
   "outputs": [
    {
     "data": {
      "text/plain": [
       "{'W_Validate application': 12662,\n",
       " 'W_Call after offers': 9457,\n",
       " 'W_Call incomplete files': 4676,\n",
       " 'O_Cancelled': 4436,\n",
       " 'W_Complete application': 144,\n",
       " 'W_Assess potential fraud': 102,\n",
       " 'O_Sent (mail and online)': 15,\n",
       " 'O_Sent (online only)': 8,\n",
       " 'W_Shortened completion': 5,\n",
       " 'W_Personal Loan collection': 2,\n",
       " 'A_Denied': 1,\n",
       " 'O_Returned': 1}"
      ]
     },
     "execution_count": 19,
     "metadata": {},
     "output_type": "execute_result"
    }
   ],
   "source": [
    "# End Activities\n",
    "end_activities = pm4py.get_end_activities(df)\n",
    "end_activities"
   ]
  },
  {
   "attachments": {},
   "cell_type": "markdown",
   "metadata": {},
   "source": [
    "## RQ1: Throughput Time"
   ]
  },
  {
   "cell_type": "code",
   "execution_count": 20,
   "metadata": {},
   "outputs": [],
   "source": [
    "complete_single_offer = pm4py.filter_end_activities(log, ['W_Validate application'])\n",
    "complete_multiple_offer = pm4py.filter_end_activities(log, ['O_Cancelled'])\n",
    "cancelled = pm4py.filter_event_attribute_values(log, 'Activity', 'A_Cancelled')\n",
    "denied = pm4py.filter_event_attribute_values(log, 'Activity', 'O_Refused')"
   ]
  },
  {
   "cell_type": "code",
   "execution_count": 21,
   "metadata": {},
   "outputs": [
    {
     "data": {
      "text/html": [
       "<div>\n",
       "<style scoped>\n",
       "    .dataframe tbody tr th:only-of-type {\n",
       "        vertical-align: middle;\n",
       "    }\n",
       "\n",
       "    .dataframe tbody tr th {\n",
       "        vertical-align: top;\n",
       "    }\n",
       "\n",
       "    .dataframe thead th {\n",
       "        text-align: right;\n",
       "    }\n",
       "</style>\n",
       "<table border=\"1\" class=\"dataframe\">\n",
       "  <thead>\n",
       "    <tr style=\"text-align: right;\">\n",
       "      <th></th>\n",
       "      <th>Application Case Type</th>\n",
       "      <th>Throughput Time</th>\n",
       "      <th>Cases</th>\n",
       "      <th>fraction</th>\n",
       "    </tr>\n",
       "  </thead>\n",
       "  <tbody>\n",
       "    <tr>\n",
       "      <th>0</th>\n",
       "      <td>complete_single_offer</td>\n",
       "      <td>15.285979</td>\n",
       "      <td>12662</td>\n",
       "      <td>0.401853</td>\n",
       "    </tr>\n",
       "    <tr>\n",
       "      <th>1</th>\n",
       "      <td>complete_multiple_offer</td>\n",
       "      <td>23.510446</td>\n",
       "      <td>4436</td>\n",
       "      <td>0.140785</td>\n",
       "    </tr>\n",
       "    <tr>\n",
       "      <th>2</th>\n",
       "      <td>cancelled</td>\n",
       "      <td>29.887714</td>\n",
       "      <td>10431</td>\n",
       "      <td>0.331048</td>\n",
       "    </tr>\n",
       "    <tr>\n",
       "      <th>3</th>\n",
       "      <td>denied</td>\n",
       "      <td>16.877526</td>\n",
       "      <td>3720</td>\n",
       "      <td>0.118062</td>\n",
       "    </tr>\n",
       "  </tbody>\n",
       "</table>\n",
       "</div>"
      ],
      "text/plain": [
       "     Application Case Type  Throughput Time  Cases  fraction\n",
       "0    complete_single_offer        15.285979  12662  0.401853\n",
       "1  complete_multiple_offer        23.510446   4436  0.140785\n",
       "2                cancelled        29.887714  10431  0.331048\n",
       "3                   denied        16.877526   3720  0.118062"
      ]
     },
     "execution_count": 21,
     "metadata": {},
     "output_type": "execute_result"
    }
   ],
   "source": [
    "subsets = [complete_single_offer, complete_multiple_offer, cancelled, denied]\n",
    "throughput = pd.DataFrame(\n",
    "    {\n",
    "        'Application Case Type': ['complete_single_offer', 'complete_multiple_offer', 'cancelled', 'denied'],\n",
    "        'Throughput Time': [np.mean(pm4py.get_all_case_durations(i)) / 86400  for i in subsets],\n",
    "        'Cases': [len(i) for i in subsets],\n",
    "        'fraction': [len(i) / len(log) for i in subsets ]\n",
    "    }\n",
    ")\n",
    "throughput"
   ]
  },
  {
   "cell_type": "code",
   "execution_count": 22,
   "metadata": {},
   "outputs": [
    {
     "data": {
      "text/html": [
       "<div>\n",
       "<style scoped>\n",
       "    .dataframe tbody tr th:only-of-type {\n",
       "        vertical-align: middle;\n",
       "    }\n",
       "\n",
       "    .dataframe tbody tr th {\n",
       "        vertical-align: top;\n",
       "    }\n",
       "\n",
       "    .dataframe thead th {\n",
       "        text-align: right;\n",
       "    }\n",
       "</style>\n",
       "<table border=\"1\" class=\"dataframe\">\n",
       "  <thead>\n",
       "    <tr style=\"text-align: right;\">\n",
       "      <th></th>\n",
       "      <th>Application Case Type</th>\n",
       "      <th>Car</th>\n",
       "      <th>Home Improvement</th>\n",
       "      <th>Existing Loan Takeover</th>\n",
       "    </tr>\n",
       "  </thead>\n",
       "  <tbody>\n",
       "    <tr>\n",
       "      <th>0</th>\n",
       "      <td>complete_single_offer</td>\n",
       "      <td>0.288817</td>\n",
       "      <td>0.246722</td>\n",
       "      <td>0.176118</td>\n",
       "    </tr>\n",
       "    <tr>\n",
       "      <th>1</th>\n",
       "      <td>complete_multiple_offer</td>\n",
       "      <td>0.269612</td>\n",
       "      <td>0.248647</td>\n",
       "      <td>0.201984</td>\n",
       "    </tr>\n",
       "    <tr>\n",
       "      <th>2</th>\n",
       "      <td>cancelled</td>\n",
       "      <td>0.325664</td>\n",
       "      <td>0.222222</td>\n",
       "      <td>0.164222</td>\n",
       "    </tr>\n",
       "    <tr>\n",
       "      <th>3</th>\n",
       "      <td>denied</td>\n",
       "      <td>0.300538</td>\n",
       "      <td>0.222581</td>\n",
       "      <td>0.209409</td>\n",
       "    </tr>\n",
       "  </tbody>\n",
       "</table>\n",
       "</div>"
      ],
      "text/plain": [
       "     Application Case Type       Car  Home Improvement  Existing Loan Takeover\n",
       "0    complete_single_offer  0.288817          0.246722                0.176118\n",
       "1  complete_multiple_offer  0.269612          0.248647                0.201984\n",
       "2                cancelled  0.325664          0.222222                0.164222\n",
       "3                   denied  0.300538          0.222581                0.209409"
      ]
     },
     "execution_count": 22,
     "metadata": {},
     "output_type": "execute_result"
    }
   ],
   "source": [
    "throughput = pd.DataFrame(\n",
    "    {\n",
    "        'Application Case Type': ['complete_single_offer', 'complete_multiple_offer', 'cancelled', 'denied'],\n",
    "        'Car': [len(pm4py.filter_event_attribute_values(i, 'LoanGoal', 'Car')) / len(i) for i in subsets],\n",
    "        'Home Improvement': [len(pm4py.filter_event_attribute_values(i, 'LoanGoal', 'Home improvement')) / len(i) for i in subsets],\n",
    "        'Existing Loan Takeover': [len(pm4py.filter_event_attribute_values(i, 'LoanGoal', 'Existing loan takeover')) / len(i) for i in subsets]\n",
    "    }\n",
    ")\n",
    "throughput"
   ]
  },
  {
   "attachments": {},
   "cell_type": "markdown",
   "metadata": {},
   "source": [
    "## RQ2: applicant-system interaction"
   ]
  },
  {
   "cell_type": "code",
   "execution_count": 23,
   "metadata": {},
   "outputs": [
    {
     "name": "stdout",
     "output_type": "stream",
     "text": [
      "Total cases with at least one call for completion: 15003\n",
      " Percentage: 47.61\n"
     ]
    }
   ],
   "source": [
    "# Total number of calls for completion\n",
    "called = pm4py.filter_event_attribute_values(log, 'Activity', 'W_Call incomplete files')\n",
    "print('Total cases with at least one call for completion: %s\\n Percentage: %5.2f' %(len(called), len(called)/len(log)*100))"
   ]
  },
  {
   "cell_type": "code",
   "execution_count": 24,
   "metadata": {},
   "outputs": [
    {
     "data": {
      "text/plain": [
       "15003"
      ]
     },
     "execution_count": 24,
     "metadata": {},
     "output_type": "execute_result"
    }
   ],
   "source": [
    "tot_called = pm4py.filter_event_attribute_values(log, 'Activity', ['W_Call incomplete files'], 'event')\n",
    "len(tot_called)"
   ]
  },
  {
   "cell_type": "code",
   "execution_count": 25,
   "metadata": {},
   "outputs": [
    {
     "data": {
      "text/plain": [
       "72"
      ]
     },
     "execution_count": 25,
     "metadata": {},
     "output_type": "execute_result"
    }
   ],
   "source": [
    "def call_case_counter (event_log, n) :\n",
    "    count = 0\n",
    "    for case in event_log :\n",
    "        if len(case) == n :\n",
    "            count += 1\n",
    "    return count\n",
    "\n",
    "call_case_counter(tot_called, 2)"
   ]
  },
  {
   "cell_type": "code",
   "execution_count": 26,
   "metadata": {},
   "outputs": [
    {
     "data": {
      "text/html": [
       "<div>\n",
       "<style scoped>\n",
       "    .dataframe tbody tr th:only-of-type {\n",
       "        vertical-align: middle;\n",
       "    }\n",
       "\n",
       "    .dataframe tbody tr th {\n",
       "        vertical-align: top;\n",
       "    }\n",
       "\n",
       "    .dataframe thead th {\n",
       "        text-align: right;\n",
       "    }\n",
       "</style>\n",
       "<table border=\"1\" class=\"dataframe\">\n",
       "  <thead>\n",
       "    <tr style=\"text-align: right;\">\n",
       "      <th></th>\n",
       "      <th>@@index</th>\n",
       "      <th>Action</th>\n",
       "      <th>Activity</th>\n",
       "      <th>ApplicationType</th>\n",
       "      <th>Case ID</th>\n",
       "      <th>Complete Timestamp</th>\n",
       "      <th>EventID</th>\n",
       "      <th>EventOrigin</th>\n",
       "      <th>LoanGoal</th>\n",
       "      <th>RequestedAmount</th>\n",
       "      <th>Resource</th>\n",
       "      <th>Start Timestamp</th>\n",
       "      <th>Variant</th>\n",
       "      <th>Variant index</th>\n",
       "      <th>concept:name</th>\n",
       "      <th>lifecycle:transition</th>\n",
       "      <th>start_timestamp</th>\n",
       "      <th>time:timestamp</th>\n",
       "    </tr>\n",
       "  </thead>\n",
       "  <tbody>\n",
       "    <tr>\n",
       "      <th>0</th>\n",
       "      <td>670200</td>\n",
       "      <td>Created</td>\n",
       "      <td>W_Call incomplete files</td>\n",
       "      <td>New credit</td>\n",
       "      <td>Application_110222905</td>\n",
       "      <td>2016-08-12 12:26:16.989</td>\n",
       "      <td>Workitem_826578232</td>\n",
       "      <td>Workflow</td>\n",
       "      <td>Caravan / Camper</td>\n",
       "      <td>20000.0</td>\n",
       "      <td>User_122</td>\n",
       "      <td>2016-08-12 12:26:16.989</td>\n",
       "      <td>Variant 10005</td>\n",
       "      <td>10005</td>\n",
       "      <td>W_Call incomplete files</td>\n",
       "      <td>schedule</td>\n",
       "      <td>2016-08-12 12:26:16.989</td>\n",
       "      <td>2016-08-12 12:26:16.989</td>\n",
       "    </tr>\n",
       "    <tr>\n",
       "      <th>1</th>\n",
       "      <td>670201</td>\n",
       "      <td>Obtained</td>\n",
       "      <td>W_Call incomplete files</td>\n",
       "      <td>New credit</td>\n",
       "      <td>Application_110222905</td>\n",
       "      <td>2016-08-12 12:26:16.992</td>\n",
       "      <td>Workitem_1901540902</td>\n",
       "      <td>Workflow</td>\n",
       "      <td>Caravan / Camper</td>\n",
       "      <td>20000.0</td>\n",
       "      <td>User_122</td>\n",
       "      <td>2016-08-12 12:26:16.992</td>\n",
       "      <td>Variant 10005</td>\n",
       "      <td>10005</td>\n",
       "      <td>W_Call incomplete files</td>\n",
       "      <td>start</td>\n",
       "      <td>2016-08-12 12:26:16.992</td>\n",
       "      <td>2016-08-12 12:26:16.992</td>\n",
       "    </tr>\n",
       "    <tr>\n",
       "      <th>2</th>\n",
       "      <td>670203</td>\n",
       "      <td>Released</td>\n",
       "      <td>W_Call incomplete files</td>\n",
       "      <td>New credit</td>\n",
       "      <td>Application_110222905</td>\n",
       "      <td>2016-08-12 12:28:23.265</td>\n",
       "      <td>Workitem_707202871</td>\n",
       "      <td>Workflow</td>\n",
       "      <td>Caravan / Camper</td>\n",
       "      <td>20000.0</td>\n",
       "      <td>User_122</td>\n",
       "      <td>2016-08-12 12:28:23.265</td>\n",
       "      <td>Variant 10005</td>\n",
       "      <td>10005</td>\n",
       "      <td>W_Call incomplete files</td>\n",
       "      <td>suspend</td>\n",
       "      <td>2016-08-12 12:28:23.265</td>\n",
       "      <td>2016-08-12 12:28:23.265</td>\n",
       "    </tr>\n",
       "    <tr>\n",
       "      <th>3</th>\n",
       "      <td>670204</td>\n",
       "      <td>Obtained</td>\n",
       "      <td>W_Call incomplete files</td>\n",
       "      <td>New credit</td>\n",
       "      <td>Application_110222905</td>\n",
       "      <td>2016-08-12 13:38:57.217</td>\n",
       "      <td>Workitem_369189445</td>\n",
       "      <td>Workflow</td>\n",
       "      <td>Caravan / Camper</td>\n",
       "      <td>20000.0</td>\n",
       "      <td>User_54</td>\n",
       "      <td>2016-08-12 13:38:57.217</td>\n",
       "      <td>Variant 10005</td>\n",
       "      <td>10005</td>\n",
       "      <td>W_Call incomplete files</td>\n",
       "      <td>resume</td>\n",
       "      <td>2016-08-12 13:38:57.217</td>\n",
       "      <td>2016-08-12 13:38:57.217</td>\n",
       "    </tr>\n",
       "    <tr>\n",
       "      <th>4</th>\n",
       "      <td>670205</td>\n",
       "      <td>Released</td>\n",
       "      <td>W_Call incomplete files</td>\n",
       "      <td>New credit</td>\n",
       "      <td>Application_110222905</td>\n",
       "      <td>2016-08-12 13:39:57.134</td>\n",
       "      <td>Workitem_2076621754</td>\n",
       "      <td>Workflow</td>\n",
       "      <td>Caravan / Camper</td>\n",
       "      <td>20000.0</td>\n",
       "      <td>User_54</td>\n",
       "      <td>2016-08-12 13:39:57.134</td>\n",
       "      <td>Variant 10005</td>\n",
       "      <td>10005</td>\n",
       "      <td>W_Call incomplete files</td>\n",
       "      <td>suspend</td>\n",
       "      <td>2016-08-12 13:39:57.134</td>\n",
       "      <td>2016-08-12 13:39:57.134</td>\n",
       "    </tr>\n",
       "    <tr>\n",
       "      <th>5</th>\n",
       "      <td>670206</td>\n",
       "      <td>Deleted</td>\n",
       "      <td>W_Call incomplete files</td>\n",
       "      <td>New credit</td>\n",
       "      <td>Application_110222905</td>\n",
       "      <td>2016-08-13 13:12:11.585</td>\n",
       "      <td>Workitem_475726293</td>\n",
       "      <td>Workflow</td>\n",
       "      <td>Caravan / Camper</td>\n",
       "      <td>20000.0</td>\n",
       "      <td>User_122</td>\n",
       "      <td>2016-08-13 13:12:11.585</td>\n",
       "      <td>Variant 10005</td>\n",
       "      <td>10005</td>\n",
       "      <td>W_Call incomplete files</td>\n",
       "      <td>ate_abort</td>\n",
       "      <td>2016-08-13 13:12:11.585</td>\n",
       "      <td>2016-08-13 13:12:11.585</td>\n",
       "    </tr>\n",
       "  </tbody>\n",
       "</table>\n",
       "</div>"
      ],
      "text/plain": [
       "   @@index    Action                 Activity ApplicationType  \\\n",
       "0   670200   Created  W_Call incomplete files      New credit   \n",
       "1   670201  Obtained  W_Call incomplete files      New credit   \n",
       "2   670203  Released  W_Call incomplete files      New credit   \n",
       "3   670204  Obtained  W_Call incomplete files      New credit   \n",
       "4   670205  Released  W_Call incomplete files      New credit   \n",
       "5   670206   Deleted  W_Call incomplete files      New credit   \n",
       "\n",
       "                 Case ID      Complete Timestamp              EventID  \\\n",
       "0  Application_110222905 2016-08-12 12:26:16.989   Workitem_826578232   \n",
       "1  Application_110222905 2016-08-12 12:26:16.992  Workitem_1901540902   \n",
       "2  Application_110222905 2016-08-12 12:28:23.265   Workitem_707202871   \n",
       "3  Application_110222905 2016-08-12 13:38:57.217   Workitem_369189445   \n",
       "4  Application_110222905 2016-08-12 13:39:57.134  Workitem_2076621754   \n",
       "5  Application_110222905 2016-08-13 13:12:11.585   Workitem_475726293   \n",
       "\n",
       "  EventOrigin          LoanGoal  RequestedAmount  Resource  \\\n",
       "0    Workflow  Caravan / Camper          20000.0  User_122   \n",
       "1    Workflow  Caravan / Camper          20000.0  User_122   \n",
       "2    Workflow  Caravan / Camper          20000.0  User_122   \n",
       "3    Workflow  Caravan / Camper          20000.0   User_54   \n",
       "4    Workflow  Caravan / Camper          20000.0   User_54   \n",
       "5    Workflow  Caravan / Camper          20000.0  User_122   \n",
       "\n",
       "          Start Timestamp        Variant  Variant index  \\\n",
       "0 2016-08-12 12:26:16.989  Variant 10005          10005   \n",
       "1 2016-08-12 12:26:16.992  Variant 10005          10005   \n",
       "2 2016-08-12 12:28:23.265  Variant 10005          10005   \n",
       "3 2016-08-12 13:38:57.217  Variant 10005          10005   \n",
       "4 2016-08-12 13:39:57.134  Variant 10005          10005   \n",
       "5 2016-08-13 13:12:11.585  Variant 10005          10005   \n",
       "\n",
       "              concept:name lifecycle:transition         start_timestamp  \\\n",
       "0  W_Call incomplete files             schedule 2016-08-12 12:26:16.989   \n",
       "1  W_Call incomplete files                start 2016-08-12 12:26:16.992   \n",
       "2  W_Call incomplete files              suspend 2016-08-12 12:28:23.265   \n",
       "3  W_Call incomplete files               resume 2016-08-12 13:38:57.217   \n",
       "4  W_Call incomplete files              suspend 2016-08-12 13:39:57.134   \n",
       "5  W_Call incomplete files            ate_abort 2016-08-13 13:12:11.585   \n",
       "\n",
       "           time:timestamp  \n",
       "0 2016-08-12 12:26:16.989  \n",
       "1 2016-08-12 12:26:16.992  \n",
       "2 2016-08-12 12:28:23.265  \n",
       "3 2016-08-12 13:38:57.217  \n",
       "4 2016-08-12 13:39:57.134  \n",
       "5 2016-08-13 13:12:11.585  "
      ]
     },
     "execution_count": 26,
     "metadata": {},
     "output_type": "execute_result"
    }
   ],
   "source": [
    "pd.DataFrame(tot_called[800])"
   ]
  },
  {
   "attachments": {},
   "cell_type": "markdown",
   "metadata": {},
   "source": [
    "## RQ3: Conversion Rate"
   ]
  },
  {
   "cell_type": "code",
   "execution_count": 27,
   "metadata": {},
   "outputs": [
    {
     "data": {
      "text/plain": [
       "31509"
      ]
     },
     "execution_count": 27,
     "metadata": {},
     "output_type": "execute_result"
    }
   ],
   "source": [
    "# delete application and workflow events\n",
    "Offer_log = pm4py.filter_event_attribute_values(log, 'EventOrigin', 'Offer', 'event')\n",
    "created_offer = pm4py.filter_event_attribute_values(log, 'Activity', 'O_Created', 'event')\n",
    "len(created_offer)"
   ]
  },
  {
   "cell_type": "code",
   "execution_count": 28,
   "metadata": {},
   "outputs": [
    {
     "data": {
      "text/plain": [
       "6578"
      ]
     },
     "execution_count": 28,
     "metadata": {},
     "output_type": "execute_result"
    }
   ],
   "source": [
    "def offer_counter (event_log, n) :\n",
    "    count = 0\n",
    "    for case in event_log :\n",
    "        if len(case) == n :\n",
    "            count += 1\n",
    "    return count\n",
    "\n",
    "offer_counter(created_offer, 2)"
   ]
  },
  {
   "cell_type": "code",
   "execution_count": 29,
   "metadata": {},
   "outputs": [
    {
     "data": {
      "text/html": [
       "<div>\n",
       "<style scoped>\n",
       "    .dataframe tbody tr th:only-of-type {\n",
       "        vertical-align: middle;\n",
       "    }\n",
       "\n",
       "    .dataframe tbody tr th {\n",
       "        vertical-align: top;\n",
       "    }\n",
       "\n",
       "    .dataframe thead th {\n",
       "        text-align: right;\n",
       "    }\n",
       "</style>\n",
       "<table border=\"1\" class=\"dataframe\">\n",
       "  <thead>\n",
       "    <tr style=\"text-align: right;\">\n",
       "      <th></th>\n",
       "      <th></th>\n",
       "      <th>1</th>\n",
       "      <th>2</th>\n",
       "      <th>3</th>\n",
       "      <th>4</th>\n",
       "      <th>5</th>\n",
       "      <th>6</th>\n",
       "      <th>7</th>\n",
       "      <th>8</th>\n",
       "      <th>9</th>\n",
       "      <th>10</th>\n",
       "    </tr>\n",
       "  </thead>\n",
       "  <tbody>\n",
       "    <tr>\n",
       "      <th>0</th>\n",
       "      <td>N. of Offers</td>\n",
       "      <td>22950.00</td>\n",
       "      <td>6578.00</td>\n",
       "      <td>1348.00</td>\n",
       "      <td>443.00</td>\n",
       "      <td>126.0</td>\n",
       "      <td>30.0</td>\n",
       "      <td>16.00</td>\n",
       "      <td>13.00</td>\n",
       "      <td>3.00</td>\n",
       "      <td>2.00</td>\n",
       "    </tr>\n",
       "    <tr>\n",
       "      <th>1</th>\n",
       "      <td>Perc of Offers</td>\n",
       "      <td>72.84</td>\n",
       "      <td>20.88</td>\n",
       "      <td>4.28</td>\n",
       "      <td>1.41</td>\n",
       "      <td>0.4</td>\n",
       "      <td>0.1</td>\n",
       "      <td>0.05</td>\n",
       "      <td>0.04</td>\n",
       "      <td>0.01</td>\n",
       "      <td>0.01</td>\n",
       "    </tr>\n",
       "  </tbody>\n",
       "</table>\n",
       "</div>"
      ],
      "text/plain": [
       "                          1        2        3       4      5     6      7  \\\n",
       "0    N. of Offers  22950.00  6578.00  1348.00  443.00  126.0  30.0  16.00   \n",
       "1  Perc of Offers     72.84    20.88     4.28    1.41    0.4   0.1   0.05   \n",
       "\n",
       "       8     9    10  \n",
       "0  13.00  3.00  2.00  \n",
       "1   0.04  0.01  0.01  "
      ]
     },
     "execution_count": 29,
     "metadata": {},
     "output_type": "execute_result"
    }
   ],
   "source": [
    "offer_made = {'': ['N. of Offers', 'Perc of Offers']}\n",
    "\n",
    "for i in range(1, 11) :\n",
    "    offer_made[i] = [offer_counter(created_offer, i), round((offer_counter(created_offer, i) / len(log) *100), 2)]\n",
    "\n",
    "pd.DataFrame(offer_made)\n"
   ]
  },
  {
   "attachments": {},
   "cell_type": "markdown",
   "metadata": {},
   "source": [
    "## RQ4: Customer Behavior"
   ]
  },
  {
   "cell_type": "code",
   "execution_count": 30,
   "metadata": {},
   "outputs": [
    {
     "data": {
      "text/plain": [
       "10431"
      ]
     },
     "execution_count": 30,
     "metadata": {},
     "output_type": "execute_result"
    }
   ],
   "source": [
    "cancelled = pm4py.filter_event_attribute_values(log, 'Activity', 'A_Cancelled')\n",
    "len(cancelled)"
   ]
  },
  {
   "cell_type": "code",
   "execution_count": 33,
   "metadata": {},
   "outputs": [
    {
     "data": {
      "text/plain": [
       "Index(['Case ID', 'Activity', 'Resource', 'Start Timestamp',\n",
       "       'Complete Timestamp', 'Variant', 'Variant index',\n",
       "       'lifecycle:transition', 'EventOrigin', 'EventID', 'Action', 'LoanGoal',\n",
       "       'ApplicationType', 'RequestedAmount', 'case:concept:name',\n",
       "       'concept:name', 'time:timestamp', '@@index', 'start_timestamp'],\n",
       "      dtype='object')"
      ]
     },
     "execution_count": 33,
     "metadata": {},
     "output_type": "execute_result"
    }
   ],
   "source": [
    "df.columns"
   ]
  },
  {
   "cell_type": "code",
   "execution_count": 34,
   "metadata": {},
   "outputs": [],
   "source": [
    "df_ = df.copy()\n",
    "df_.rename(columns = {'Resource' : 'org:resource'}, inplace = True)"
   ]
  },
  {
   "cell_type": "code",
   "execution_count": 35,
   "metadata": {},
   "outputs": [
    {
     "data": {
      "text/plain": [
       "{'2': ['User_1', 'User_138', 'User_143', 'User_144', 'User_147'],\n",
       " '4': ['User_10',\n",
       "  'User_13',\n",
       "  'User_141',\n",
       "  'User_15',\n",
       "  'User_16',\n",
       "  'User_17',\n",
       "  'User_18',\n",
       "  'User_19',\n",
       "  'User_21',\n",
       "  'User_24',\n",
       "  'User_35',\n",
       "  'User_36',\n",
       "  'User_37',\n",
       "  'User_38',\n",
       "  'User_4',\n",
       "  'User_40',\n",
       "  'User_42',\n",
       "  'User_44',\n",
       "  'User_45',\n",
       "  'User_46',\n",
       "  'User_47',\n",
       "  'User_49',\n",
       "  'User_51',\n",
       "  'User_60',\n",
       "  'User_61',\n",
       "  'User_62',\n",
       "  'User_70',\n",
       "  'User_74',\n",
       "  'User_84',\n",
       "  'User_85',\n",
       "  'User_92'],\n",
       " '0': ['User_100',\n",
       "  'User_101',\n",
       "  'User_102',\n",
       "  'User_107',\n",
       "  'User_109',\n",
       "  'User_115',\n",
       "  'User_124',\n",
       "  'User_128',\n",
       "  'User_129',\n",
       "  'User_136',\n",
       "  'User_139',\n",
       "  'User_148',\n",
       "  'User_29',\n",
       "  'User_30',\n",
       "  'User_68',\n",
       "  'User_75',\n",
       "  'User_83',\n",
       "  'User_90',\n",
       "  'User_95',\n",
       "  'User_99'],\n",
       " '3': ['User_103',\n",
       "  'User_104',\n",
       "  'User_105',\n",
       "  'User_108',\n",
       "  'User_110',\n",
       "  'User_12',\n",
       "  'User_132',\n",
       "  'User_135',\n",
       "  'User_20',\n",
       "  'User_22',\n",
       "  'User_25',\n",
       "  'User_32',\n",
       "  'User_43',\n",
       "  'User_50',\n",
       "  'User_55',\n",
       "  'User_56',\n",
       "  'User_57',\n",
       "  'User_59',\n",
       "  'User_6',\n",
       "  'User_65',\n",
       "  'User_69',\n",
       "  'User_7',\n",
       "  'User_71',\n",
       "  'User_72',\n",
       "  'User_73',\n",
       "  'User_76',\n",
       "  'User_77',\n",
       "  'User_78',\n",
       "  'User_79',\n",
       "  'User_8',\n",
       "  'User_80',\n",
       "  'User_81',\n",
       "  'User_82',\n",
       "  'User_89',\n",
       "  'User_9',\n",
       "  'User_91',\n",
       "  'User_94',\n",
       "  'User_96',\n",
       "  'User_97',\n",
       "  'User_98'],\n",
       " '1': ['User_106',\n",
       "  'User_112',\n",
       "  'User_113',\n",
       "  'User_114',\n",
       "  'User_116',\n",
       "  'User_117',\n",
       "  'User_118',\n",
       "  'User_119',\n",
       "  'User_120',\n",
       "  'User_121',\n",
       "  'User_122',\n",
       "  'User_123',\n",
       "  'User_125',\n",
       "  'User_126',\n",
       "  'User_127',\n",
       "  'User_130',\n",
       "  'User_131',\n",
       "  'User_133',\n",
       "  'User_134',\n",
       "  'User_137',\n",
       "  'User_140',\n",
       "  'User_146',\n",
       "  'User_27',\n",
       "  'User_87',\n",
       "  'User_93'],\n",
       " '7': ['User_11',\n",
       "  'User_14',\n",
       "  'User_23',\n",
       "  'User_26',\n",
       "  'User_28',\n",
       "  'User_3',\n",
       "  'User_31',\n",
       "  'User_39',\n",
       "  'User_48',\n",
       "  'User_5',\n",
       "  'User_52',\n",
       "  'User_53',\n",
       "  'User_58',\n",
       "  'User_63',\n",
       "  'User_66',\n",
       "  'User_86',\n",
       "  'User_88'],\n",
       " '6': ['User_111', 'User_142', 'User_145', 'User_149', 'User_64'],\n",
       " '5': ['User_2', 'User_33', 'User_34', 'User_41', 'User_54', 'User_67']}"
      ]
     },
     "execution_count": 35,
     "metadata": {},
     "output_type": "execute_result"
    }
   ],
   "source": [
    "# Clustering\n",
    "sa_metric = pm4py.discover_activity_based_resource_similarity(df_)\n",
    "from pm4py.algo.organizational_mining.sna import util\n",
    "clustering = util.cluster_affinity_propagation(sa_metric)\n",
    "clustering"
   ]
  }
 ],
 "metadata": {
  "kernelspec": {
   "display_name": "Python 3.10.3 64-bit",
   "language": "python",
   "name": "python3"
  },
  "language_info": {
   "codemirror_mode": {
    "name": "ipython",
    "version": 3
   },
   "file_extension": ".py",
   "mimetype": "text/x-python",
   "name": "python",
   "nbconvert_exporter": "python",
   "pygments_lexer": "ipython3",
   "version": "3.10.10"
  },
  "orig_nbformat": 4,
  "vscode": {
   "interpreter": {
    "hash": "8c3d4d9970fc5c09c50d9318a9c7fbf4d0159e4b28833276f5678ee22bded273"
   }
  }
 },
 "nbformat": 4,
 "nbformat_minor": 2
}
